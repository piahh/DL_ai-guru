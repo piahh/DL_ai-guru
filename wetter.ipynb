{
 "cells": [
  {
   "cell_type": "code",
   "execution_count": 7,
   "metadata": {},
   "outputs": [
    {
     "name": "stdout",
     "output_type": "stream",
     "text": [
      "--2021-02-18 16:34:54--  https://s3.amazonaws.com/keras-datasets/jena_climate_2009_2016.csv.zip\n",
      "Loaded CA certificate '/etc/ssl/certs/ca-certificates.crt'\n",
      "Resolving s3.amazonaws.com (s3.amazonaws.com)... 52.216.30.62\n",
      "Connecting to s3.amazonaws.com (s3.amazonaws.com)|52.216.30.62|:443... connected.\n",
      "HTTP request sent, awaiting response... 200 OK\n",
      "Length: 13565642 (13M) [application/zip]\n",
      "Saving to: ‘jena_climate_2009_2016.csv.zip.3’\n",
      "\n",
      "jena_climate_2009_2 100%[===================>]  12,94M  3,13MB/s    in 5,1s    \n",
      "\n",
      "2021-02-18 16:34:59 (2,54 MB/s) - ‘jena_climate_2009_2016.csv.zip.3’ saved [13565642/13565642]\n",
      "\n"
     ]
    }
   ],
   "source": [
    "!wget https://s3.amazonaws.com/keras-datasets/jena_climate_2009_2016.csv.zip\n",
    "with zipfile.ZipFile(\"jena_climate_2009_2016.csv.zip\", \"r\") as zip_ref:\n",
    "    zip_ref.extractall(r\"/home/piah/Documents/AI-Guru/\")"
   ]
  },
  {
   "cell_type": "code",
   "execution_count": 16,
   "metadata": {},
   "outputs": [
    {
     "ename": "ImportError",
     "evalue": "Keras requires TensorFlow 2.2 or higher. Install TensorFlow via `pip install tensorflow`",
     "output_type": "error",
     "traceback": [
      "\u001b[0;31m---------------------------------------------------------------------------\u001b[0m",
      "\u001b[0;31mModuleNotFoundError\u001b[0m                       Traceback (most recent call last)",
      "\u001b[0;32m~/anaconda3/lib/python3.8/site-packages/keras/__init__.py\u001b[0m in \u001b[0;36m<module>\u001b[0;34m\u001b[0m\n\u001b[1;32m      2\u001b[0m \u001b[0;32mtry\u001b[0m\u001b[0;34m:\u001b[0m\u001b[0;34m\u001b[0m\u001b[0;34m\u001b[0m\u001b[0m\n\u001b[0;32m----> 3\u001b[0;31m     \u001b[0;32mfrom\u001b[0m \u001b[0mtensorflow\u001b[0m\u001b[0;34m.\u001b[0m\u001b[0mkeras\u001b[0m\u001b[0;34m.\u001b[0m\u001b[0mlayers\u001b[0m\u001b[0;34m.\u001b[0m\u001b[0mexperimental\u001b[0m\u001b[0;34m.\u001b[0m\u001b[0mpreprocessing\u001b[0m \u001b[0;32mimport\u001b[0m \u001b[0mRandomRotation\u001b[0m\u001b[0;34m\u001b[0m\u001b[0;34m\u001b[0m\u001b[0m\n\u001b[0m\u001b[1;32m      4\u001b[0m \u001b[0;32mexcept\u001b[0m \u001b[0mImportError\u001b[0m\u001b[0;34m:\u001b[0m\u001b[0;34m\u001b[0m\u001b[0;34m\u001b[0m\u001b[0m\n",
      "\u001b[0;31mModuleNotFoundError\u001b[0m: No module named 'tensorflow'",
      "\nDuring handling of the above exception, another exception occurred:\n",
      "\u001b[0;31mImportError\u001b[0m                               Traceback (most recent call last)",
      "\u001b[0;32m<ipython-input-16-bf68677ca570>\u001b[0m in \u001b[0;36m<module>\u001b[0;34m\u001b[0m\n\u001b[1;32m      1\u001b[0m \u001b[0;32mimport\u001b[0m \u001b[0mzipfile\u001b[0m\u001b[0;34m\u001b[0m\u001b[0;34m\u001b[0m\u001b[0m\n\u001b[0;32m----> 2\u001b[0;31m \u001b[0;32mfrom\u001b[0m \u001b[0mkeras\u001b[0m \u001b[0;32mimport\u001b[0m \u001b[0mmodels\u001b[0m\u001b[0;34m,\u001b[0m \u001b[0mlayers\u001b[0m\u001b[0;34m\u001b[0m\u001b[0;34m\u001b[0m\u001b[0m\n\u001b[0m",
      "\u001b[0;32m~/anaconda3/lib/python3.8/site-packages/keras/__init__.py\u001b[0m in \u001b[0;36m<module>\u001b[0;34m\u001b[0m\n\u001b[1;32m      3\u001b[0m     \u001b[0;32mfrom\u001b[0m \u001b[0mtensorflow\u001b[0m\u001b[0;34m.\u001b[0m\u001b[0mkeras\u001b[0m\u001b[0;34m.\u001b[0m\u001b[0mlayers\u001b[0m\u001b[0;34m.\u001b[0m\u001b[0mexperimental\u001b[0m\u001b[0;34m.\u001b[0m\u001b[0mpreprocessing\u001b[0m \u001b[0;32mimport\u001b[0m \u001b[0mRandomRotation\u001b[0m\u001b[0;34m\u001b[0m\u001b[0;34m\u001b[0m\u001b[0m\n\u001b[1;32m      4\u001b[0m \u001b[0;32mexcept\u001b[0m \u001b[0mImportError\u001b[0m\u001b[0;34m:\u001b[0m\u001b[0;34m\u001b[0m\u001b[0;34m\u001b[0m\u001b[0m\n\u001b[0;32m----> 5\u001b[0;31m     raise ImportError(\n\u001b[0m\u001b[1;32m      6\u001b[0m         \u001b[0;34m'Keras requires TensorFlow 2.2 or higher. '\u001b[0m\u001b[0;34m\u001b[0m\u001b[0;34m\u001b[0m\u001b[0m\n\u001b[1;32m      7\u001b[0m         'Install TensorFlow via `pip install tensorflow`')\n",
      "\u001b[0;31mImportError\u001b[0m: Keras requires TensorFlow 2.2 or higher. Install TensorFlow via `pip install tensorflow`"
     ]
    }
   ],
   "source": [
    "import zipfile\n",
    "from keras import models, layers"
   ]
  },
  {
   "cell_type": "code",
   "execution_count": 17,
   "metadata": {},
   "outputs": [
    {
     "name": "stdout",
     "output_type": "stream",
     "text": [
      "Collecting tensorflow\n",
      "  Downloading tensorflow-2.4.1-cp38-cp38-manylinux2010_x86_64.whl (394.4 MB)\n",
      "\u001b[K     |████████████████████████████████| 394.4 MB 37 kB/s  eta 0:00:01    |███                             | 36.6 MB 1.8 MB/s eta 0:03:21     |█████████                       | 110.5 MB 2.7 MB/s eta 0:01:44     |█████████████▍                  | 165.0 MB 1.9 MB/s eta 0:01:58     |██████████████                  | 171.8 MB 2.4 MB/s eta 0:01:34     |████████████████▏               | 198.6 MB 2.5 MB/s eta 0:01:19\n",
      "\u001b[?25hRequirement already satisfied: wheel~=0.35 in /home/piah/anaconda3/lib/python3.8/site-packages (from tensorflow) (0.35.1)\n",
      "Collecting protobuf>=3.9.2\n",
      "  Downloading protobuf-3.14.0-cp38-cp38-manylinux1_x86_64.whl (1.0 MB)\n",
      "\u001b[K     |████████████████████████████████| 1.0 MB 1.7 MB/s eta 0:00:01\n",
      "\u001b[?25hCollecting astunparse~=1.6.3\n",
      "  Downloading astunparse-1.6.3-py2.py3-none-any.whl (12 kB)\n",
      "Collecting google-pasta~=0.2\n",
      "  Downloading google_pasta-0.2.0-py3-none-any.whl (57 kB)\n",
      "\u001b[K     |████████████████████████████████| 57 kB 2.2 MB/s eta 0:00:01\n",
      "\u001b[?25hCollecting keras-preprocessing~=1.1.2\n",
      "  Downloading Keras_Preprocessing-1.1.2-py2.py3-none-any.whl (42 kB)\n",
      "\u001b[K     |████████████████████████████████| 42 kB 1.7 MB/s eta 0:00:01\n",
      "\u001b[?25hRequirement already satisfied: six~=1.15.0 in /home/piah/anaconda3/lib/python3.8/site-packages (from tensorflow) (1.15.0)\n",
      "Collecting tensorboard~=2.4\n",
      "  Downloading tensorboard-2.4.1-py3-none-any.whl (10.6 MB)\n",
      "\u001b[K     |████████████████████████████████| 10.6 MB 3.5 MB/s eta 0:00:01\n",
      "\u001b[?25hCollecting tensorflow-estimator<2.5.0,>=2.4.0\n",
      "  Downloading tensorflow_estimator-2.4.0-py2.py3-none-any.whl (462 kB)\n",
      "\u001b[K     |████████████████████████████████| 462 kB 2.6 MB/s eta 0:00:01\n",
      "\u001b[?25hRequirement already satisfied: h5py~=2.10.0 in /home/piah/anaconda3/lib/python3.8/site-packages (from tensorflow) (2.10.0)\n",
      "Collecting flatbuffers~=1.12.0\n",
      "  Downloading flatbuffers-1.12-py2.py3-none-any.whl (15 kB)\n",
      "Collecting wrapt~=1.12.1\n",
      "  Downloading wrapt-1.12.1.tar.gz (27 kB)\n",
      "Requirement already satisfied: typing-extensions~=3.7.4 in /home/piah/anaconda3/lib/python3.8/site-packages (from tensorflow) (3.7.4.3)\n",
      "Collecting opt-einsum~=3.3.0\n",
      "  Downloading opt_einsum-3.3.0-py3-none-any.whl (65 kB)\n",
      "\u001b[K     |████████████████████████████████| 65 kB 1.6 MB/s eta 0:00:01\n",
      "\u001b[?25hCollecting termcolor~=1.1.0\n",
      "  Downloading termcolor-1.1.0.tar.gz (3.9 kB)\n",
      "Collecting grpcio~=1.32.0\n",
      "  Downloading grpcio-1.32.0-cp38-cp38-manylinux2014_x86_64.whl (3.8 MB)\n",
      "\u001b[K     |████████████████████████████████| 3.8 MB 2.5 MB/s eta 0:00:01\n",
      "\u001b[?25hRequirement already satisfied: numpy~=1.19.2 in /home/piah/anaconda3/lib/python3.8/site-packages (from tensorflow) (1.19.2)\n",
      "Collecting absl-py~=0.10\n",
      "  Downloading absl_py-0.11.0-py3-none-any.whl (127 kB)\n",
      "\u001b[K     |████████████████████████████████| 127 kB 3.0 MB/s eta 0:00:01\n",
      "\u001b[?25hCollecting gast==0.3.3\n",
      "  Downloading gast-0.3.3-py2.py3-none-any.whl (9.7 kB)\n",
      "Collecting tensorboard-plugin-wit>=1.6.0\n",
      "  Downloading tensorboard_plugin_wit-1.8.0-py3-none-any.whl (781 kB)\n",
      "\u001b[K     |████████████████████████████████| 781 kB 2.9 MB/s eta 0:00:01\n",
      "\u001b[?25hCollecting google-auth-oauthlib<0.5,>=0.4.1\n",
      "  Downloading google_auth_oauthlib-0.4.2-py2.py3-none-any.whl (18 kB)\n",
      "Collecting google-auth<2,>=1.6.3\n",
      "  Downloading google_auth-1.27.0-py2.py3-none-any.whl (135 kB)\n",
      "\u001b[K     |████████████████████████████████| 135 kB 3.6 MB/s eta 0:00:01\n",
      "\u001b[?25hRequirement already satisfied: requests<3,>=2.21.0 in /home/piah/anaconda3/lib/python3.8/site-packages (from tensorboard~=2.4->tensorflow) (2.24.0)\n",
      "Collecting markdown>=2.6.8\n",
      "  Downloading Markdown-3.3.3-py3-none-any.whl (96 kB)\n",
      "\u001b[K     |████████████████████████████████| 96 kB 2.3 MB/s eta 0:00:01\n",
      "\u001b[?25hRequirement already satisfied: werkzeug>=0.11.15 in /home/piah/anaconda3/lib/python3.8/site-packages (from tensorboard~=2.4->tensorflow) (1.0.1)\n",
      "Requirement already satisfied: setuptools>=41.0.0 in /home/piah/anaconda3/lib/python3.8/site-packages (from tensorboard~=2.4->tensorflow) (50.3.1.post20201107)\n",
      "Collecting requests-oauthlib>=0.7.0\n",
      "  Downloading requests_oauthlib-1.3.0-py2.py3-none-any.whl (23 kB)\n",
      "Collecting pyasn1-modules>=0.2.1\n",
      "  Downloading pyasn1_modules-0.2.8-py2.py3-none-any.whl (155 kB)\n",
      "\u001b[K     |████████████████████████████████| 155 kB 2.0 MB/s eta 0:00:01\n",
      "\u001b[?25hCollecting cachetools<5.0,>=2.0.0\n",
      "  Downloading cachetools-4.2.1-py3-none-any.whl (12 kB)\n",
      "Collecting rsa<5,>=3.1.4; python_version >= \"3.6\"\n",
      "  Downloading rsa-4.7.1-py3-none-any.whl (36 kB)\n",
      "Requirement already satisfied: idna<3,>=2.5 in /home/piah/anaconda3/lib/python3.8/site-packages (from requests<3,>=2.21.0->tensorboard~=2.4->tensorflow) (2.10)\n",
      "Requirement already satisfied: certifi>=2017.4.17 in /home/piah/anaconda3/lib/python3.8/site-packages (from requests<3,>=2.21.0->tensorboard~=2.4->tensorflow) (2020.6.20)\n",
      "Requirement already satisfied: chardet<4,>=3.0.2 in /home/piah/anaconda3/lib/python3.8/site-packages (from requests<3,>=2.21.0->tensorboard~=2.4->tensorflow) (3.0.4)\n",
      "Requirement already satisfied: urllib3!=1.25.0,!=1.25.1,<1.26,>=1.21.1 in /home/piah/anaconda3/lib/python3.8/site-packages (from requests<3,>=2.21.0->tensorboard~=2.4->tensorflow) (1.25.11)\n",
      "Collecting oauthlib>=3.0.0\n",
      "  Downloading oauthlib-3.1.0-py2.py3-none-any.whl (147 kB)\n",
      "\u001b[K     |████████████████████████████████| 147 kB 3.0 MB/s eta 0:00:01\n",
      "\u001b[?25hCollecting pyasn1<0.5.0,>=0.4.6\n",
      "  Downloading pyasn1-0.4.8-py2.py3-none-any.whl (77 kB)\n",
      "\u001b[K     |████████████████████████████████| 77 kB 3.2 MB/s eta 0:00:01\n",
      "\u001b[?25hBuilding wheels for collected packages: wrapt, termcolor\n",
      "  Building wheel for wrapt (setup.py) ... \u001b[?25ldone\n",
      "\u001b[?25h  Created wheel for wrapt: filename=wrapt-1.12.1-cp38-cp38-linux_x86_64.whl size=76653 sha256=d18dd330cd9bb62c9020520719a70c83788fe91a06b8f8d8c0b126d0d12897db\n",
      "  Stored in directory: /home/piah/.cache/pip/wheels/5f/fd/9e/b6cf5890494cb8ef0b5eaff72e5d55a70fb56316007d6dfe73\n",
      "  Building wheel for termcolor (setup.py) ... \u001b[?25ldone\n",
      "\u001b[?25h  Created wheel for termcolor: filename=termcolor-1.1.0-py3-none-any.whl size=4830 sha256=55e98822f25d61b02b32a452c4b54c78f7f03b22be5f90787fba10609575c2ca\n",
      "  Stored in directory: /home/piah/.cache/pip/wheels/a0/16/9c/5473df82468f958445479c59e784896fa24f4a5fc024b0f501\n",
      "Successfully built wrapt termcolor\n",
      "Installing collected packages: protobuf, astunparse, google-pasta, keras-preprocessing, tensorboard-plugin-wit, oauthlib, requests-oauthlib, pyasn1, pyasn1-modules, cachetools, rsa, google-auth, google-auth-oauthlib, markdown, absl-py, grpcio, tensorboard, tensorflow-estimator, flatbuffers, wrapt, opt-einsum, termcolor, gast, tensorflow\n",
      "  Attempting uninstall: wrapt\n",
      "    Found existing installation: wrapt 1.11.2\n",
      "    Uninstalling wrapt-1.11.2:\n",
      "      Successfully uninstalled wrapt-1.11.2\n",
      "Successfully installed absl-py-0.11.0 astunparse-1.6.3 cachetools-4.2.1 flatbuffers-1.12 gast-0.3.3 google-auth-1.27.0 google-auth-oauthlib-0.4.2 google-pasta-0.2.0 grpcio-1.32.0 keras-preprocessing-1.1.2 markdown-3.3.3 oauthlib-3.1.0 opt-einsum-3.3.0 protobuf-3.14.0 pyasn1-0.4.8 pyasn1-modules-0.2.8 requests-oauthlib-1.3.0 rsa-4.7.1 tensorboard-2.4.1 tensorboard-plugin-wit-1.8.0 tensorflow-2.4.1 tensorflow-estimator-2.4.0 termcolor-1.1.0 wrapt-1.12.1\n",
      "Note: you may need to restart the kernel to use updated packages.\n"
     ]
    }
   ],
   "source": [
    "pip install tensorflow"
   ]
  },
  {
   "cell_type": "code",
   "execution_count": 1,
   "metadata": {},
   "outputs": [
    {
     "name": "stdout",
     "output_type": "stream",
     "text": [
      "['\"Date Time\"', '\"p (mbar)\"', '\"T (degC)\"', '\"Tpot (K)\"', '\"Tdew (degC)\"', '\"rh (%)\"', '\"VPmax (mbar)\"', '\"VPact (mbar)\"', '\"VPdef (mbar)\"', '\"sh (g/kg)\"', '\"H2OC (mmol/mol)\"', '\"rho (g/m**3)\"', '\"wv (m/s)\"', '\"max. wv (m/s)\"', '\"wd (deg)\"']\n",
      "420451\n"
     ]
    }
   ],
   "source": [
    "import os\n",
    "\n",
    "fname = \"jena_climate_2009_2016.csv\"\n",
    "f = open(fname)\n",
    "data = f.read()\n",
    "f.close()\n",
    "\n",
    "lines = data.split(\"\\n\")\n",
    "header = lines[0].split(\",\")\n",
    "lines = lines[1:]\n",
    "\n",
    "print(header)\n",
    "print(len(lines))"
   ]
  },
  {
   "cell_type": "code",
   "execution_count": 2,
   "metadata": {},
   "outputs": [],
   "source": [
    "import numpy as np\n",
    "\n",
    "float_data = np.zeros((len(lines), len(header)-1))\n",
    "for i, line in enumerate(lines):\n",
    "  values = [float(x) for x in line.split(\",\")[1:]]\n",
    "  float_data[i, :] = values"
   ]
  },
  {
   "cell_type": "code",
   "execution_count": 3,
   "metadata": {},
   "outputs": [
    {
     "name": "stdout",
     "output_type": "stream",
     "text": [
      "[ 9.96520e+02 -8.02000e+00  2.65400e+02 -8.90000e+00  9.33000e+01\n",
      "  3.33000e+00  3.11000e+00  2.20000e-01  1.94000e+00  3.12000e+00\n",
      "  1.30775e+03  1.03000e+00  1.75000e+00  1.52300e+02]\n"
     ]
    }
   ],
   "source": [
    "print(float_data[0])"
   ]
  },
  {
   "cell_type": "code",
   "execution_count": 4,
   "metadata": {},
   "outputs": [
    {
     "name": "stdout",
     "output_type": "stream",
     "text": [
      "-25.01\n"
     ]
    }
   ],
   "source": [
    "print(np.min(float_data))"
   ]
  },
  {
   "cell_type": "code",
   "execution_count": 5,
   "metadata": {},
   "outputs": [
    {
     "name": "stdout",
     "output_type": "stream",
     "text": [
      "[ 9.13600e+02 -2.30100e+01  2.50600e+02 -2.50100e+01  1.29500e+01\n",
      "  9.50000e-01  7.90000e-01  0.00000e+00  5.00000e-01  8.00000e-01\n",
      "  1.05945e+03  0.00000e+00  0.00000e+00  0.00000e+00]\n",
      "[ 989.21250783    9.44856687  283.49118161    4.95401072   76.00704494\n",
      "   13.57508937    9.53252372    4.04248255    6.02163018    9.63898219\n",
      " 1216.06988308    2.130309      3.53238071  174.7261635 ]\n",
      "[ 8.35944437  8.42367506  8.5048102   6.73040306 16.47710594  7.73947215\n",
      "  4.18389036  4.89726435  2.65597021  4.23512542 39.97701754  1.54182803\n",
      "  2.34047899 86.67586212]\n",
      "[ 989.57    9.41  283.46    5.21   79.3    11.82    8.86    2.19    5.59\n",
      "    8.96 1213.8     1.76    2.96  198.1 ]\n",
      "[1015.35   37.28  311.34   23.11  100.     63.77   28.32   46.01   18.13\n",
      "   28.82 1393.54   14.63   23.5   360.  ]\n"
     ]
    }
   ],
   "source": [
    "print(np.min(float_data, axis=0))\n",
    "print(np.mean(float_data, axis=0))\n",
    "print(np.std(float_data, axis=0))\n",
    "print(np.median(float_data, axis=0))\n",
    "print(np.max(float_data, axis=0))"
   ]
  },
  {
   "cell_type": "code",
   "execution_count": 6,
   "metadata": {},
   "outputs": [
    {
     "data": {
      "text/plain": [
       "[<matplotlib.lines.Line2D at 0x7f013a53beb0>]"
      ]
     },
     "execution_count": 6,
     "metadata": {},
     "output_type": "execute_result"
    },
    {
     "data": {
      "image/png": "[encoded data removed]",
      "text/plain": [
       "<Figure size 432x288 with 1 Axes>"
      ]
     },
     "metadata": {
      "needs_background": "light"
     },
     "output_type": "display_data"
    }
   ],
   "source": [
    "%matplotlib inline\n",
    "import matplotlib.pyplot as plt\n",
    "plt.plot(float_data[:,1])"
   ]
  },
  {
   "cell_type": "code",
   "execution_count": 7,
   "metadata": {},
   "outputs": [
    {
     "data": {
      "text/plain": [
       "[<matplotlib.lines.Line2D at 0x7f013a4a4fd0>]"
      ]
     },
     "execution_count": 7,
     "metadata": {},
     "output_type": "execute_result"
    },
    {
     "data": {
      "image/png": "[encoded data removed]",
      "text/plain": [
       "<Figure size 432x288 with 1 Axes>"
      ]
     },
     "metadata": {
      "needs_background": "light"
     },
     "output_type": "display_data"
    }
   ],
   "source": [
    "plt.plot(float_data[:1440,1])"
   ]
  },
  {
   "cell_type": "code",
   "execution_count": 8,
   "metadata": {},
   "outputs": [
    {
     "data": {
      "text/plain": [
       "10.0"
      ]
     },
     "execution_count": 8,
     "metadata": {},
     "output_type": "execute_result"
    }
   ],
   "source": [
    "1440*10/(60*24)"
   ]
  },
  {
   "cell_type": "code",
   "execution_count": 9,
   "metadata": {},
   "outputs": [],
   "source": [
    "mean = float_data[:200000].mean(axis=0)\n",
    "float_data -= mean\n",
    "std = float_data[:200000].std(axis=0)\n",
    "float_data /= std"
   ]
  },
  {
   "cell_type": "code",
   "execution_count": 10,
   "metadata": {},
   "outputs": [],
   "source": [
    "def generator(\n",
    "    data, # Subset of float-data\n",
    "    lookback, # Past\n",
    "    delay,  # Future\n",
    "    min_index, # Start index\n",
    "    max_index, # End index\n",
    "    shuffle=False, # Shuffles the data.\n",
    "    batch_size=128, # How many samples.\n",
    "    step=6 # sampling rate\n",
    "    ):\n",
    "    \n",
    "    if max_index is None:\n",
    "        max_index = len(data) - delay - 1\n",
    "    i = min_index + lookback\n",
    "    while True:\n",
    "        if shuffle:\n",
    "            rows = np.random.randint(\n",
    "                min_index + lookback, max_index, size=batch_size\n",
    "            )\n",
    "        else:    \n",
    "            if i + batch_size >= max_index:\n",
    "                i = min_index + lookback\n",
    "            rows = np.arange(i, min(i + batch_size, max_index))\n",
    "            i += len(rows)\n",
    "           \n",
    "        samples = np.zeros((\n",
    "            len(rows), \n",
    "            lookback // step,\n",
    "            data.shape[-1]\n",
    "        ))\n",
    "        targets = np.zeros((len(rows),))  \n",
    "        for j, row in enumerate(rows):\n",
    "            indices = range(rows[j] - lookback, rows[j], step)\n",
    "            samples[j] = data[indices]\n",
    "            targets[j] = data[rows[j] + delay][1]\n",
    "            \n",
    "        yield samples, targets\n",
    "\n",
    "        \n",
    "lookback = 1440\n",
    "step = 6\n",
    "delay = 144\n",
    "batch_size = 128\n",
    "\n",
    "train_gen = generator(\n",
    "    float_data,\n",
    "    lookback=lookback,\n",
    "    delay=delay,\n",
    "    min_index=0,\n",
    "    max_index=200000,\n",
    "    shuffle=True,\n",
    "    step=step,\n",
    "    batch_size=batch_size\n",
    ")\n",
    "\n",
    "val_gen = generator(\n",
    "    float_data,\n",
    "    lookback=lookback,\n",
    "    delay=delay,\n",
    "    min_index=200001,\n",
    "    max_index=300000,\n",
    "    shuffle=False,\n",
    "    step=step,\n",
    "    batch_size=batch_size\n",
    ")\n",
    "\n",
    "test_gen = generator(\n",
    "    float_data,\n",
    "    lookback=lookback,\n",
    "    delay=delay,\n",
    "    min_index=300001,\n",
    "    max_index=None,\n",
    "    shuffle=False,\n",
    "    step=step,\n",
    "    batch_size=batch_size\n",
    ")\n",
    "\n",
    "val_steps = (300_000 - 200_001 - lookback) // batch_size\n",
    "test_steps = (len(float_data) - 300_001 - lookback) // batch_size"
   ]
  },
  {
   "cell_type": "code",
   "execution_count": 11,
   "metadata": {},
   "outputs": [
    {
     "name": "stdout",
     "output_type": "stream",
     "text": [
      "(128, 240, 14) -> (128,)\n",
      "[-4.86568698e-01 -3.19384269e-01  2.74798227e-01  2.04761507e-01\n",
      " -4.47031840e-01 -1.78111839e+00  1.17510897e+00  1.26817415e-01\n",
      " -2.68115193e-02  1.55918130e+00 -9.47455501e-01  1.23428541e-01\n",
      " -6.11957019e-01 -3.00180652e-01 -2.22167196e+00  1.31518241e+00\n",
      "  6.44185444e-01  2.18951178e+00 -6.44716130e-01 -6.96678858e-01\n",
      " -6.89901111e-01  1.48236684e+00  1.06440576e+00  1.70829174e+00\n",
      "  4.44241904e-01 -9.55362872e-01 -1.55588714e-01  1.75573597e+00\n",
      "  1.76477296e+00  5.73019099e-01  4.58927023e-01  1.27338630e+00\n",
      " -1.97384821e-01 -3.51013756e-01 -6.52187529e-02 -5.10290813e-01\n",
      " -9.84733110e-01  4.01316173e-01  5.89963467e-01  1.15138685e+00\n",
      " -5.12550062e-01  8.20684073e-03 -4.06365357e-01 -7.53160084e-01\n",
      " -1.35863882e+00  1.03164665e+00 -2.90707683e-02 -5.21587058e-01\n",
      "  7.70703390e-01 -4.71883579e-01 -6.07438521e-01 -9.98288604e-01\n",
      "  1.85557890e-01  1.62965400e-01 -7.98345064e-01 -6.09697770e-01\n",
      "  2.42039116e-01  2.15901192e+00 -2.36400464e+00  1.15521170e-01\n",
      "  1.15477573e+00  1.87817139e-01 -3.28421265e-01  2.45427989e-01\n",
      "  4.66834395e-01 -1.07058457e+00 -1.55971199e+00 -4.26698598e-01\n",
      " -3.35199012e-01 -6.86076264e-02  6.57740938e-01 -7.70104451e-01\n",
      " -1.95169170e+00  8.27620588e-02 -9.53103623e-01  8.54295604e-01\n",
      " -1.30893535e+00  7.23259160e-01  1.25983081e+00  1.30501579e+00\n",
      " -5.96142276e-01  9.89850546e-01 -5.69031287e-01  1.69021775e+00\n",
      " -1.61506359e+00  2.17595629e+00 -1.18128778e+00  7.20999911e-01\n",
      " -1.21856538e+00 -7.72363701e-01  2.74798227e-01  1.29936766e+00\n",
      " -1.73932229e+00  2.92872219e-01  9.29286795e-02  9.60480309e-01\n",
      "  2.53335361e-01 -1.32700934e+00 -6.17605142e-01 -8.22067179e-01\n",
      " -1.18693590e+00 -1.99644070e-01 -7.65585953e-01  4.52149276e-01\n",
      " -1.69074843e+00 -1.33152784e+00 -2.61773419e-01  3.38057200e-01\n",
      " -1.26713924e+00 -1.81274788e+00 -2.68551166e-01 -1.23438013e+00\n",
      " -6.51493877e-01  1.24627531e+00  2.00990148e+00 -1.32587971e+00\n",
      " -9.06789018e-01  1.52077407e+00 -2.79411438e-02  9.97757918e-01\n",
      " -1.12367693e+00 -7.42993463e-01  1.07457238e+00 -8.30155409e-04\n",
      " -2.43699427e-01  2.76336104e+00 -5.66772038e-01  2.02910510e+00]\n"
     ]
    }
   ],
   "source": [
    "x, y = next(train_gen)\n",
    "print(x.shape, \"->\", y.shape)\n",
    "print(y)"
   ]
  },
  {
   "cell_type": "code",
   "execution_count": null,
   "metadata": {},
   "outputs": [
    {
     "name": "stdout",
     "output_type": "stream",
     "text": [
      "Model: \"sequential\"\n",
      "_________________________________________________________________\n",
      "Layer (type)                 Output Shape              Param #   \n",
      "=================================================================\n",
      "flatten (Flatten)            (None, 3360)              0         \n",
      "_________________________________________________________________\n",
      "dense (Dense)                (None, 32)                107552    \n",
      "_________________________________________________________________\n",
      "dense_1 (Dense)              (None, 1)                 33        \n",
      "=================================================================\n",
      "Total params: 107,585\n",
      "Trainable params: 107,585\n",
      "Non-trainable params: 0\n",
      "_________________________________________________________________\n",
      "Epoch 1/20\n"
     ]
    },
    {
     "name": "stderr",
     "output_type": "stream",
     "text": [
      "/home/piah/anaconda3/lib/python3.8/site-packages/tensorflow/python/keras/engine/training.py:1844: UserWarning: `Model.fit_generator` is deprecated and will be removed in a future version. Please use `Model.fit`, which supports generators.\n",
      "  warnings.warn('`Model.fit_generator` is deprecated and '\n"
     ]
    },
    {
     "name": "stdout",
     "output_type": "stream",
     "text": [
      "500/500 [==============================] - 12s 24ms/step - loss: 2.3487 - val_loss: 0.9051\n",
      "Epoch 2/20\n",
      "500/500 [==============================] - 12s 24ms/step - loss: 0.7109 - val_loss: 0.3760\n",
      "Epoch 3/20\n",
      "500/500 [==============================] - 12s 25ms/step - loss: 0.3210 - val_loss: 0.3062\n",
      "Epoch 4/20\n",
      "500/500 [==============================] - 11s 23ms/step - loss: 0.2736 - val_loss: 0.3355\n",
      "Epoch 5/20\n",
      "500/500 [==============================] - 11s 23ms/step - loss: 0.2568 - val_loss: 0.3185\n",
      "Epoch 6/20\n",
      "500/500 [==============================] - 13s 26ms/step - loss: 0.2473 - val_loss: 0.3111\n",
      "Epoch 7/20\n",
      "500/500 [==============================] - 13s 25ms/step - loss: 0.2420 - val_loss: 0.3536\n",
      "Epoch 8/20\n",
      " 40/500 [=>............................] - ETA: 3s - loss: 0.2420"
     ]
    }
   ],
   "source": [
    "from keras import models, layers\n",
    "\n",
    "model = models.Sequential()\n",
    "model.add(layers.Flatten(input_shape=(240, 14)))\n",
    "model.add(layers.Dense(32, activation=\"relu\"))\n",
    "model.add(layers.Dense(1, activation=\"linear\"))\n",
    "model.summary()\n",
    "\n",
    "model.compile(\n",
    "    optimizer=\"rmsprop\",\n",
    "    loss=\"mae\"\n",
    ")\n",
    "\n",
    "model.fit_generator(\n",
    "    train_gen,\n",
    "    steps_per_epoch=500,\n",
    "    epochs=20,\n",
    "    validation_data=val_gen,\n",
    "    validation_steps=val_steps\n",
    ")\n",
    "\n"
   ]
  },
  {
   "cell_type": "code",
   "execution_count": null,
   "metadata": {},
   "outputs": [],
   "source": [
    "model.history.history"
   ]
  }
 ],
 "metadata": {
  "kernelspec": {
   "display_name": "Python 3",
   "language": "python",
   "name": "python3"
  },
  "language_info": {
   "codemirror_mode": {
    "name": "ipython",
    "version": 3
   },
   "file_extension": ".py",
   "mimetype": "text/x-python",
   "name": "python",
   "nbconvert_exporter": "python",
   "pygments_lexer": "ipython3",
   "version": "3.8.5"
  }
 },
 "nbformat": 4,
 "nbformat_minor": 4
}
